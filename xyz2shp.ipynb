{
 "cells": [
  {
   "cell_type": "code",
   "execution_count": 2,
   "id": "22eb1ff8",
   "metadata": {},
   "outputs": [],
   "source": [
    "import pyproj\n",
    "import glob\n",
    "import os\n",
    "import geopandas as gpd\n",
    "from shapely.geometry import Point"
   ]
  },
  {
   "cell_type": "code",
   "execution_count": 3,
   "id": "c9a207ee",
   "metadata": {},
   "outputs": [],
   "source": [
    "# Define input and output coordinate systems\n",
    "input_epsg = 'EPSG:4152'  # NAVD88 Geoid18 (latitude and longitude)\n",
    "output_epsg = 'EPSG:6344'  # NAVD88 Geoid12 (easting and northing)\n",
    "\n",
    "# Create coordinate transformation function\n",
    "transformer = pyproj.Transformer.from_crs(input_epsg, output_epsg, always_xy=True)\n",
    "\n",
    "# Define input and output directories\n",
    "input_directory = 'F:\\\\EastOilFields\\\\xyz\\\\2006'  # Directory containing input XYZ files\n",
    "output_directory = 'F:\\\\EastOilFields\\\\shp\\\\2006shapefilez'  # Directory to store output shapefiles\n",
    "\n",
    "# Get list of XYZ files in the input directory\n",
    "xyz_files = glob.glob(os.path.join(input_directory, '*.xyz'))"
   ]
  },
  {
   "cell_type": "code",
   "execution_count": 4,
   "id": "48dc436b",
   "metadata": {},
   "outputs": [],
   "source": [
    "# Iterate over XYZ files and perform the conversion\n",
    "for xyz_file in xyz_files:\n",
    "    # Read XYZ file\n",
    "    data = []\n",
    "    with open(xyz_file, 'r') as f:\n",
    "        for line in f:\n",
    "            x, y, z = line.strip().split()  # Assuming X, Y, Z values are space-separated\n",
    "            data.append((float(x), float(y), float(z)))\n",
    "\n",
    "    # Convert XYZ coordinates to Point objects and transform to the output coordinate system\n",
    "    points = []\n",
    "    for x, y, z in data:\n",
    "        point = Point(x, y)\n",
    "        transformed_point = transformer.transform(point.x, point.y, z)\n",
    "        points.append((transformed_point[0], transformed_point[1], z))  # Append \"z\" value\n",
    "\n",
    "    # Create a GeoDataFrame with transformed coordinates and \"z\" values\n",
    "    df = gpd.GeoDataFrame(points, columns=['x', 'y', 'z'], geometry=gpd.points_from_xy(*zip(*points)))\n",
    "\n",
    "    # Create output file name\n",
    "    output_file = os.path.splitext(os.path.basename(xyz_file))[0] + '.shp'\n",
    "    output_path = os.path.join(output_directory, output_file)\n",
    "\n",
    "    # Save GeoDataFrame as shapefile\n",
    "    df.to_file(output_path)\n"
   ]
  }
 ],
 "metadata": {
  "kernelspec": {
   "display_name": "Python 3 (ipykernel)",
   "language": "python",
   "name": "python3"
  },
  "language_info": {
   "codemirror_mode": {
    "name": "ipython",
    "version": 3
   },
   "file_extension": ".py",
   "mimetype": "text/x-python",
   "name": "python",
   "nbconvert_exporter": "python",
   "pygments_lexer": "ipython3",
   "version": "3.10.11"
  }
 },
 "nbformat": 4,
 "nbformat_minor": 5
}
