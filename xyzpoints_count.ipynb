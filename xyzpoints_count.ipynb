{
 "cells": [
  {
   "cell_type": "code",
   "execution_count": 1,
   "id": "50c56de7",
   "metadata": {},
   "outputs": [
    {
     "name": "stdout",
     "output_type": "stream",
     "text": [
      "Total number of points in all files: 109027702\n"
     ]
    }
   ],
   "source": [
    "import os\n",
    "\n",
    "dataset_path = \"D:\\\\EastOilFields\\\\xyz\\\\2006\"  \n",
    "file_extension = \".xyz\"\n",
    "\n",
    "# Get a list of all files with .xyz extension in the dataset folder\n",
    "file_list = [file for file in os.listdir(dataset_path) if file.endswith(file_extension)]\n",
    "\n",
    "total_points = 0\n",
    "\n",
    "# Iterate through each file and count the number of points\n",
    "for file in file_list:\n",
    "    file_path = os.path.join(dataset_path, file)\n",
    "    \n",
    "    with open(file_path, \"r\") as f:\n",
    "        # Read the lines in the file and count the number of points\n",
    "        num_points = sum(1 for line in f if line.strip() != \"\")\n",
    "        total_points += num_points\n",
    "\n",
    "print(\"Total number of points in all files:\", total_points)\n",
    "\n"
   ]
  },
  {
   "cell_type": "code",
   "execution_count": 2,
   "id": "999c9e21",
   "metadata": {},
   "outputs": [
    {
     "name": "stdout",
     "output_type": "stream",
     "text": [
      "Total number of points in all files: 1438970126\n"
     ]
    }
   ],
   "source": [
    "dataset_path = \"F:\\\\EastOilFields\\\\xyz\\\\2017\"  \n",
    "file_extension = \".xyz\"\n",
    "\n",
    "# Get a list of all files with .xyz extension in the dataset folder\n",
    "file_list = [file for file in os.listdir(dataset_path) if file.endswith(file_extension)]\n",
    "\n",
    "total_points = 0\n",
    "\n",
    "# Iterate through each file and count the number of points\n",
    "for file in file_list:\n",
    "    file_path = os.path.join(dataset_path, file)\n",
    "    \n",
    "    with open(file_path, \"r\") as f:\n",
    "        # Read the lines in the file and count the number of points\n",
    "        num_points = sum(1 for line in f if line.strip() != \"\")\n",
    "        total_points += num_points\n",
    "\n",
    "print(\"Total number of points in all files:\", total_points)\n"
   ]
  },
  {
   "cell_type": "code",
   "execution_count": null,
   "id": "51f1be17",
   "metadata": {},
   "outputs": [],
   "source": []
  }
 ],
 "metadata": {
  "kernelspec": {
   "display_name": "Python 3 (ipykernel)",
   "language": "python",
   "name": "python3"
  },
  "language_info": {
   "codemirror_mode": {
    "name": "ipython",
    "version": 3
   },
   "file_extension": ".py",
   "mimetype": "text/x-python",
   "name": "python",
   "nbconvert_exporter": "python",
   "pygments_lexer": "ipython3",
   "version": "3.10.11"
  }
 },
 "nbformat": 4,
 "nbformat_minor": 5
}
