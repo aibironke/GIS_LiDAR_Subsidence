{
 "cells": [
  {
   "cell_type": "markdown",
   "metadata": {},
   "source": [
    "# Filename Manage"
   ]
  },
  {
   "cell_type": "markdown",
   "metadata": {},
   "source": [
    "\"\"\"\n",
    "The corresponding files of 2006 and 2017 had same filenames and were present in different folders. This conflicted\n",
    "during the process of joining the table so we are renaming the 2006 year data to be just 6 digits number at the end which \n",
    "is unique.\n",
    "\"\"\""
   ]
  },
  {
   "cell_type": "code",
   "execution_count": 1,
   "metadata": {},
   "outputs": [],
   "source": [
    "import os"
   ]
  },
  {
   "cell_type": "code",
   "execution_count": 2,
   "metadata": {},
   "outputs": [],
   "source": [
    "#folder location of 2006 data\n",
    "folder_06=\"D:\\\\WestJefferson\\\\clips\\\\4141d\""
   ]
  },
  {
   "cell_type": "code",
   "execution_count": 3,
   "metadata": {},
   "outputs": [],
   "source": [
    "#iteration within the folder\n",
    "for filename in os.listdir(folder_06):\n",
    "    #split the filename and extension\n",
    "    name, ext= os.path.splitext(filename)\n",
    "    \n",
    "    # new file name defined as last 6 digits\n",
    "    if ext==\".xml\":\n",
    "        reduced_number_letters = -13\n",
    "        \n",
    "    else:\n",
    "        reduced_number_letters = -6\n",
    "        \n",
    "    # new file name defined in terms of reduced number of letters\n",
    "    new_name = name[reduced_number_letters:]\n",
    "    \n",
    "    #creating new filename\n",
    "    new_filename = f\"{new_name}{ext}\"\n",
    "    \n",
    "    \n",
    "    #join new filename with the folder path\n",
    "    old_file_path= os.path.join(folder_06, filename)\n",
    "    new_file_path= os.path.join(folder_06, new_filename)\n",
    "    \n",
    "    #rename\n",
    "    os.rename(old_file_path, new_file_path)"
   ]
  },
  {
   "cell_type": "markdown",
   "metadata": {},
   "source": [
    "# Combine shapefile"
   ]
  },
  {
   "cell_type": "code",
   "execution_count": 2,
   "metadata": {},
   "outputs": [
    {
     "ename": "ModuleNotFoundError",
     "evalue": "No module named 'arcpy'",
     "output_type": "error",
     "traceback": [
      "\u001b[1;31m---------------------------------------------------------------------------\u001b[0m",
      "\u001b[1;31mModuleNotFoundError\u001b[0m                       Traceback (most recent call last)",
      "Cell \u001b[1;32mIn[2], line 1\u001b[0m\n\u001b[1;32m----> 1\u001b[0m \u001b[38;5;28;01mimport\u001b[39;00m \u001b[38;5;21;01marcpy\u001b[39;00m\n\u001b[0;32m      2\u001b[0m \u001b[38;5;28;01mimport\u001b[39;00m \u001b[38;5;21;01mos\u001b[39;00m\n\u001b[0;32m      3\u001b[0m \u001b[38;5;28;01mfrom\u001b[39;00m \u001b[38;5;21;01marcpy\u001b[39;00m \u001b[38;5;28;01mimport\u001b[39;00m env\n",
      "\u001b[1;31mModuleNotFoundError\u001b[0m: No module named 'arcpy'"
     ]
    }
   ],
   "source": [
    "import arcpy\n",
    "import os\n",
    "from arcpy import env"
   ]
  },
  {
   "cell_type": "code",
   "execution_count": 5,
   "metadata": {},
   "outputs": [
    {
     "data": {
      "text/plain": [
       "'D:\\\\WestJefferson\\\\2017xyz2shp\\\\4141d\\\\'"
      ]
     },
     "execution_count": 5,
     "metadata": {},
     "output_type": "execute_result"
    }
   ],
   "source": [
    "import os\n",
    "# Get a list of input shapefiles\n",
    "shp1_folder = \"D:\\\\WestJefferson\\\\clips\\\\4141d\\\\\" #The clipped shapefile of 2006 and 2017 modified with the \"Near Distance\"\n",
    "shp2_folder = \"D:\\\\WestJefferson\\\\2017xyz2shp\\\\4141d\\\\\" #The 2017 shapefiles with changed \"Point_Z\" to \"Point Z_1\"\n",
    "input_files = [f for f in os.listdir(shp1_folder) if f.endswith(\".shp\")]\n"
   ]
  },
  {
   "cell_type": "code",
   "execution_count": 3,
   "metadata": {},
   "outputs": [],
   "source": [
    "n = len(input_files)\n",
    "for i in range(n):\n",
    "    shapefile1 = os.path.join(shp1_folder, input_files[i])\n",
    "    shapefile2 = os.path.join(shp2_folder, \"stratmap17-50cm_299\"+input_files[i])\n",
    "    \n",
    "    # Define the join fields\n",
    "    in_field = \"NEAR_FID\" # The column of common value to join in shapefile1\n",
    "    join_field = \"FID\" # The column of common value to join in shapefile2\n",
    "    join_fields = [\"POINT_Z_1\"] # The fields to join from the second shapefile\n",
    "        \n",
    "    # Join the shapefiles based on the join field\n",
    "    arcpy.JoinField_management(shapefile1, in_field, shapefile2, join_field, join_fields)\n",
    "    \n",
    "    # Add another new field to the first shapefile to calculate the difference between the two fields\n",
    "    diff_field_name = \"Z_Deferenc\"\n",
    "    arcpy.AddField_management(shapefile1, diff_field_name, \"DOUBLE\")\n",
    "    \n",
    "    # Calculate the difference between the two fields\n",
    "    expression = \"!POINT_Z! - !POINT_Z_1!\"\n",
    "    arcpy.CalculateField_management(shapefile1, diff_field_name, expression, \"PYTHON_9.3\", None)\n",
    "    "
   ]
  },
  {
   "cell_type": "markdown",
   "metadata": {},
   "source": [
    "# Code pasted into arcgis python window"
   ]
  },
  {
   "cell_type": "code",
   "execution_count": null,
   "metadata": {},
   "outputs": [],
   "source": [
    "\"\"\"# Get a list of input shapefiles\n",
    "shp1_folder = \"E:\\\\xyz_trial\\\\to_do\\\\remaining_006_shp\\\\\"\n",
    "shp2_folder = \"E:\\\\xyz_trial\\\\to_do\\\\remaining_017_shp\\\\\"\n",
    "input_files = [f for f in os.listdir(shp1_folder) if f.endswith(\".shp\")]\n",
    "n = len(input_files)\n",
    "for i in range(n):\n",
    "    shapefile1 = os.path.join(shp1_folder, input_files[i])\n",
    "    shapefile2 = os.path.join(shp2_folder, \"stratmap17-50cm_\"+input_files[i])\n",
    "    \n",
    "    # Define the join fields\n",
    "    in_field = \"NEAR_FID\" # The column of common value to join in shapefile1\n",
    "    join_field = \"FID\" # The column of common value to join in shapefile2\n",
    "    join_fields = [\"POINT_Z_1\"] # The fields to join from the second shapefile\n",
    "        \n",
    "    # Join the shapefiles based on the join field\n",
    "    arcpy.JoinField_management(shapefile1, in_field, shapefile2, join_field, join_fields)\n",
    "    \n",
    "    # Add another new field to the first shapefile to calculate the difference between the two fields\n",
    "    diff_field_name = \"Z_Deferenc\"\n",
    "    arcpy.AddField_management(shapefile1, diff_field_name, \"DOUBLE\")\n",
    "    \n",
    "    # Calculate the difference between the two fields\n",
    "    expression = \"!POINT_Z! - !POINT_Z_1!\"\n",
    "    arcpy.CalculateField_management(shapefile1, diff_field_name, expression, \"PYTHON_9.3\", None)\n",
    "    \"\"\""
   ]
  },
  {
   "cell_type": "code",
   "execution_count": null,
   "metadata": {},
   "outputs": [],
   "source": [
    "import arcpy\n",
    "import os\n",
    "from arcpy import env\n",
    "# Get a list of input shapefiles\n",
    "shp1_folder = \"H:\\\\WestJefferson\\\\OilFieldsWest_Jeff\\\\clips\\\\4142a1_4142b\\\\\" #The clipped shapefile of 2006 and 2017 modified with the \"Near Distance\"\n",
    "shp2_folder = \"H:\\\\WestJefferson\\\\OilFieldsWest_Jeff\\\\2017xyz2shp\\\\Zchange_4142a\\\\4142a1\" #The 2017 shapefiles with changed \"Point_Z\" to \"Point Z_1\"\n",
    "input_files = [f for f in os.listdir(shp1_folder) if f.endswith(\".shp\")]\n",
    "n = len(input_files)\n",
    "for i in range(n):\n",
    "    shapefile1 = os.path.join(shp1_folder, input_files[i])\n",
    "    shapefile2 = os.path.join(shp2_folder, \"stratmap17-50cm_299\"+input_files[i])\n",
    "    \n",
    "    # Define the join fields\n",
    "    in_field = \"NEAR_FID\" # The column of common value to join in shapefile1\n",
    "    join_field = \"FID\" # The column of common value to join in shapefile2\n",
    "    join_fields = [\"POINT_Z_1\"] # The fields to join from the second shapefile\n",
    "        \n",
    "    # Join the shapefiles based on the join field\n",
    "    arcpy.JoinField_management(shapefile1, in_field, shapefile2, join_field, join_fields)\n",
    "    \n",
    "    # Add another new field to the first shapefile to calculate the difference between the two fields\n",
    "    diff_field_name = \"Z_Deferenc\"\n",
    "    arcpy.AddField_management(shapefile1, diff_field_name, \"DOUBLE\")\n",
    "    \n",
    "    # Calculate the difference between the two fields\n",
    "    expression = \"!POINT_Z! - !POINT_Z_1!\"\n",
    "    arcpy.CalculateField_management(shapefile1, diff_field_name, expression, \"PYTHON_9.3\", None)\n"
   ]
  },
  {
   "cell_type": "code",
   "execution_count": null,
   "metadata": {},
   "outputs": [],
   "source": [
    "import arcpy\n",
    "import os\n",
    "from arcpy import env\n",
    "\n",
    "# Get a list of input shapefiles\n",
    "shp1_folder = \"H:\\\\WestJefferson\\\\OilFieldsWest_Jeff\\\\clips\\\\4142a1_4142b\\\\\" #The clipped shapefile of 2006 and 2017 modified with the \"Near Distance\"\n",
    "\n",
    "input_files = [f for f in os.listdir(shp1_folder) if f.endswith(\".shp\")]\n",
    "n = len(input_files)\n",
    "for i in range(n):\n",
    "    shapefile1 = os.path.join(shp1_folder, input_files[i])  \n",
    "    \n",
    "    # Add a field for subsidence_rate and calculate its value\n",
    "    subsidence_field_name = \"subs_rate\"\n",
    "    arcpy.AddField_management(shapefile1, subsidence_field_name, \"DOUBLE\")\n",
    "    \n",
    "    # Calculate subsidence_rate as Z_Difference divided by 11\n",
    "    subsidence_expression = \"(!Z_Deferenc! *1000.0) / 11.0\"  # Dividing by 11.0 to ensure floating-point division\n",
    "    arcpy.CalculateField_management(shapefile1, subsidence_field_name, subsidence_expression, \"PYTHON_9.3\", None)\n"
   ]
  },
  {
   "cell_type": "code",
   "execution_count": null,
   "metadata": {},
   "outputs": [],
   "source": [
    "import arcpy\n",
    "import os\n",
    "import math  # Import the math module for the sqrt function\n",
    "from arcpy import env\n",
    "\n",
    "# Get a list of input shapefiles\n",
    "shp1_folder = \"H:\\\\WestJefferson\\\\OilFieldsWest_Jeff\\\\clips\\\\4142a1_4142b\\\\\" #The clipped shapefile of 2006 and 2017 modified with the \"Near Distance\"\n",
    "\n",
    "input_files = [f for f in os.listdir(shp1_folder) if f.endswith(\".shp\")]\n",
    "n = len(input_files)\n",
    "for i in range(n):\n",
    "    shapefile1 = os.path.join(shp1_folder, input_files[i])  \n",
    "    \n",
    "    # Add filed for RMSE\n",
    "    rmse_field_name = \"RMSE\"\n",
    "    arcpy.AddField_management(shapefile1, rmse_field_name, \"DOUBLE\")\n",
    "\n",
    "    # Calculate RMSE\n",
    "    rmse_expression = \"math.sqrt(abs(!Z_Deferenc!))\"\n",
    "    arcpy.CalculateField_management(shapefile1, rmse_field_name, rmse_expression, \"PYTHON_9.3\", None)"
   ]
  },
  {
   "cell_type": "code",
   "execution_count": null,
   "metadata": {},
   "outputs": [],
   "source": [
    "import arcpy\n",
    "import os\n",
    "from arcpy import env\n",
    "# Get a list of input shapefiles\n",
    "shp1_folder = \"D:\\\\WestJefferson\\\\clips\\\\nearpoint_trial\\\\\" #The clipped shapefile of 2006 and 2017 modified with the \"Near Distance\"\n",
    "shp2_folder = \"D:\\\\WestJefferson\\\\2017xyz2shp\\\\Zchange_4142a\" #The 2017 shapefiles with changed \"Point_Z\" to \"Point Z_1\"\n",
    "input_files = [f for f in os.listdir(shp1_folder) if f.endswith(\".shp\")]\n",
    "n = len(input_files)\n",
    "for i in range(n):\n",
    "    shapefile1 = os.path.join(shp1_folder, input_files[i])\n",
    "    shapefile2 = os.path.join(shp2_folder, \"stratmap17-50cm_299\"+input_files[i])\n",
    "    \n",
    "    # Define the join fields\n",
    "    in_field = \"NEAR_FID\" # The column of common value to join in shapefile1\n",
    "    join_field = \"FID\" # The column of common value to join in shapefile2\n",
    "    join_fields = [\"POINT_Z_1\"] # The fields to join from the second shapefile\n",
    "        \n",
    "    # Join the shapefiles based on the join field\n",
    "    arcpy.JoinField_management(shapefile1, in_field, shapefile2, join_field, join_fields)\n",
    "    \n",
    "    # Add another new field to the first shapefile to calculate the difference between the two fields\n",
    "    diff_field_name = \"Z_Deferenc\"\n",
    "    arcpy.AddField_management(shapefile1, diff_field_name, \"DOUBLE\")\n",
    "    \n",
    "    # Calculate the difference between the two fields\n",
    "    expression = \"!POINT_Z! - !POINT_Z_1!\"\n",
    "    arcpy.CalculateField_management(shapefile1, diff_field_name, expression, \"PYTHON_9.3\", None)\n"
   ]
  },
  {
   "cell_type": "code",
   "execution_count": null,
   "metadata": {},
   "outputs": [],
   "source": []
  },
  {
   "cell_type": "code",
   "execution_count": null,
   "metadata": {},
   "outputs": [],
   "source": []
  },
  {
   "cell_type": "code",
   "execution_count": null,
   "metadata": {},
   "outputs": [],
   "source": []
  },
  {
   "cell_type": "code",
   "execution_count": null,
   "metadata": {},
   "outputs": [],
   "source": []
  },
  {
   "cell_type": "code",
   "execution_count": null,
   "metadata": {},
   "outputs": [],
   "source": []
  },
  {
   "cell_type": "code",
   "execution_count": null,
   "metadata": {},
   "outputs": [],
   "source": []
  }
 ],
 "metadata": {
  "kernelspec": {
   "display_name": "Python 3 (ipykernel)",
   "language": "python",
   "name": "python3"
  },
  "language_info": {
   "codemirror_mode": {
    "name": "ipython",
    "version": 3
   },
   "file_extension": ".py",
   "mimetype": "text/x-python",
   "name": "python",
   "nbconvert_exporter": "python",
   "pygments_lexer": "ipython3",
   "version": "3.9.17"
  }
 },
 "nbformat": 4,
 "nbformat_minor": 2
}
