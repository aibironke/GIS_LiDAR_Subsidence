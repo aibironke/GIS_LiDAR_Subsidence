{
 "cells": [
  {
   "cell_type": "code",
   "execution_count": 2,
   "metadata": {},
   "outputs": [],
   "source": [
    "\n",
    "import os\n",
    "import shutil\n"
   ]
  },
  {
   "cell_type": "code",
   "execution_count": 61,
   "metadata": {},
   "outputs": [],
   "source": [
    "\"\"\"\"\n",
    "# Renaming all files in folder 006 same as 017 specify the directory containing the files\n",
    "directory = 'D:\\\\Spring23\\\\RA\\\\new_work_area_Apr9\\\\trial\\\\006\\\\006'\n",
    "\n",
    "# loop through all files in the directory\n",
    "for filename in os.listdir(directory):\n",
    "    # check if the file is a regular file (not a directory or symlink)\n",
    "    if os.path.isfile(os.path.join(directory, filename)):\n",
    "        # remove the first three characters from the filename\n",
    "        new_filename = filename[3:]\n",
    "        # create the full path for the new filename\n",
    "        new_path = os.path.join(directory, new_filename)\n",
    "        # move the file to the new path\n",
    "        shutil.move(os.path.join(directory, filename), new_path)\n",
    "        \n",
    "\"\"\""
   ]
  },
  {
   "cell_type": "code",
   "execution_count": 9,
   "metadata": {},
   "outputs": [],
   "source": [
    "import os\n",
    "import shutil\n",
    "\n",
    "# Renaming all files in folder 006 same as 017 specify the directory containing the files\n",
    "directory = \"D:\\\\WestJefferson\\\\2006xyz2shp\\\\nearpoint_trial\"\n",
    "\n",
    "# loop through all files in the directory\n",
    "for filename in os.listdir(directory):\n",
    "    # check if the file is a regular file (not a directory or symlink)\n",
    "    if os.path.isfile(os.path.join(directory, filename)):\n",
    "        # remove the first three characters from the filename\n",
    "        new_filename = filename[10:]\n",
    "        # create the full path for the new filename\n",
    "        new_path = os.path.join(directory, new_filename)\n",
    "        # move the file to the new path\n",
    "        shutil.move(os.path.join(directory, filename), new_path)"
   ]
  },
  {
   "cell_type": "code",
   "execution_count": 62,
   "metadata": {},
   "outputs": [],
   "source": [
    "\"\"\"\n",
    "for filename in os.listdir(directory):\n",
    "    # check if the file is a regular file (not a directory or symlink)\n",
    "    if os.path.isfile(os.path.join(directory, filename)):\n",
    "        # replace the 11th character of the filename with \"-\"\n",
    "        new_filename = filename[:10] + \"-\" + filename[11:]\n",
    "        # create the full path for the new filename\n",
    "        new_path = os.path.join(directory, new_filename)\n",
    "        # move the file to the new path\n",
    "        shutil.move(os.path.join(directory, filename), new_path)\n",
    "\"\"\""
   ]
  },
  {
   "cell_type": "code",
   "execution_count": 1,
   "metadata": {},
   "outputs": [
    {
     "ename": "ModuleNotFoundError",
     "evalue": "No module named 'arcpy'",
     "output_type": "error",
     "traceback": [
      "\u001b[1;31m---------------------------------------------------------------------------\u001b[0m",
      "\u001b[1;31mModuleNotFoundError\u001b[0m                       Traceback (most recent call last)",
      "Cell \u001b[1;32mIn[1], line 1\u001b[0m\n\u001b[1;32m----> 1\u001b[0m \u001b[38;5;28;01mimport\u001b[39;00m \u001b[38;5;21;01marcpy\u001b[39;00m\n\u001b[0;32m      2\u001b[0m \u001b[38;5;28;01mimport\u001b[39;00m \u001b[38;5;21;01mos\u001b[39;00m\n\u001b[0;32m      3\u001b[0m \u001b[38;5;28;01mfrom\u001b[39;00m \u001b[38;5;21;01marcpy\u001b[39;00m \u001b[38;5;28;01mimport\u001b[39;00m env\n",
      "\u001b[1;31mModuleNotFoundError\u001b[0m: No module named 'arcpy'"
     ]
    }
   ],
   "source": [
    "import arcpy\n",
    "import os\n",
    "from arcpy import env"
   ]
  },
  {
   "cell_type": "code",
   "execution_count": 64,
   "metadata": {},
   "outputs": [],
   "source": [
    "# Set the workspace\n",
    "env.workspace = \"D:\\\\Spring23\\\\RA\\\\new_work_area_Apr9\\\\trial\\\\map\""
   ]
  },
  {
   "cell_type": "code",
   "execution_count": 65,
   "metadata": {},
   "outputs": [
    {
     "data": {
      "text/plain": [
       "['stratmap17-50cm_2993011a1.shp', 'stratmap17-50cm_2993011a2.shp']"
      ]
     },
     "execution_count": 65,
     "metadata": {},
     "output_type": "execute_result"
    }
   ],
   "source": [
    "# Get a list of input shapefiles\n",
    "input_folder = \"D:\\\\Spring23\\\\RA\\\\new_work_area_Apr9\\\\trial\\\\006\\\\006\\\\\"\n",
    "input_files = [f for f in os.listdir(input_folder) if f.endswith(\".shp\")]\n",
    "input_files"
   ]
  },
  {
   "cell_type": "code",
   "execution_count": 66,
   "metadata": {},
   "outputs": [
    {
     "data": {
      "text/plain": [
       "['stratmap17-50cm_2993011a1.shp', 'stratmap17-50cm_2993011a2.shp']"
      ]
     },
     "execution_count": 66,
     "metadata": {},
     "output_type": "execute_result"
    }
   ],
   "source": [
    "# Get a list of near feature shapefiles\n",
    "near_folder = \"D:\\\\Spring23\\\\RA\\\\new_work_area_Apr9\\\\trial\\\\017\\\\017\\\\\"\n",
    "near_files = [f for f in os.listdir(near_folder) if f.endswith(\".shp\")]\n",
    "near_files"
   ]
  },
  {
   "cell_type": "code",
   "execution_count": null,
   "metadata": {},
   "outputs": [],
   "source": [
    "n = len(input_files)\n",
    "for i in range(n):\n",
    "    input_shapefile = os.path.join(input_folder, input_files[i])\n",
    "    near_shapefile = os.path.join(near_folder, near_files[i])\n",
    "        \n",
    "    # Perform the near analysis\n",
    "    arcpy.Near_analysis(input_shapefile, near_shapefile, \"1 Meter\", \"LOCATION\")       \n"
   ]
  },
  {
   "cell_type": "code",
   "execution_count": 1,
   "metadata": {},
   "outputs": [
    {
     "ename": "ModuleNotFoundError",
     "evalue": "No module named 'arcpy'",
     "output_type": "error",
     "traceback": [
      "\u001b[1;31m---------------------------------------------------------------------------\u001b[0m",
      "\u001b[1;31mModuleNotFoundError\u001b[0m                       Traceback (most recent call last)",
      "Cell \u001b[1;32mIn[1], line 1\u001b[0m\n\u001b[1;32m----> 1\u001b[0m \u001b[38;5;28;01mimport\u001b[39;00m \u001b[38;5;21;01marcpy\u001b[39;00m\n\u001b[0;32m      2\u001b[0m \u001b[38;5;28;01mimport\u001b[39;00m \u001b[38;5;21;01mos\u001b[39;00m\n\u001b[0;32m      3\u001b[0m \u001b[38;5;28;01mfrom\u001b[39;00m \u001b[38;5;21;01marcpy\u001b[39;00m \u001b[38;5;28;01mimport\u001b[39;00m env\n",
      "\u001b[1;31mModuleNotFoundError\u001b[0m: No module named 'arcpy'"
     ]
    }
   ],
   "source": [
    "import arcpy\n",
    "import os\n",
    "from arcpy import env"
   ]
  },
  {
   "cell_type": "code",
   "execution_count": null,
   "metadata": {},
   "outputs": [],
   "source": [
    "# Set the workspace\n",
    "env.workspace = \"H:\\\\WestJefferson\\\\OilFieldsWest_Jeff\\\\map\""
   ]
  },
  {
   "cell_type": "code",
   "execution_count": null,
   "metadata": {},
   "outputs": [],
   "source": [
    "# Get a list of input shapefiles\n",
    "input_folder = \"H:\\\\WestJefferson\\\\OilFieldsWest_Jeff\\\\clips\\\\4142a1_4142b\"\n",
    "input_files = [f for f in os.listdir(input_folder) if f.endswith(\".shp\")]\n",
    "input_files"
   ]
  },
  {
   "cell_type": "code",
   "execution_count": null,
   "metadata": {},
   "outputs": [],
   "source": [
    "# Get a list of near feature shapefiles\n",
    "near_folder = \"H:\\\\WestJefferson\\\\OilFieldsWest_Jeff\\\\Aggregates\\Aggregates4142a\\\\\"\n",
    "near_files = [f for f in os.listdir(near_folder) if f.endswith(\".shp\")]\n",
    "near_files"
   ]
  },
  {
   "cell_type": "code",
   "execution_count": null,
   "metadata": {},
   "outputs": [],
   "source": [
    "n = len(input_files)\n",
    "for i in range(n):\n",
    "    input_shapefile = os.path.join(input_folder, input_files[i])\n",
    "    near_shapefile = os.path.join(near_folder, near_files[i])\n",
    "        \n",
    "    # Perform the near analysis\n",
    "    arcpy.Near_analysis(input_shapefile, near_shapefile, \"1 Meter\", \"LOCATION\")"
   ]
  },
  {
   "cell_type": "code",
   "execution_count": null,
   "metadata": {},
   "outputs": [],
   "source": [
    "D:\\WestJefferson\\2006xyz2shp\\nearpoint_trial"
   ]
  },
  {
   "cell_type": "code",
   "execution_count": null,
   "metadata": {},
   "outputs": [],
   "source": [
    "import arcpy\n",
    "import os\n",
    "from arcpy import env\n",
    "# Set the workspace\n",
    "env.workspace = \"D:\\\\WestJefferson\\\\map\"\n",
    "# Get a list of input shapefiles\n",
    "input_folder = \"D:\\\\WestJefferson\\\\clips\\\\nearpoint_trial\"\n",
    "input_files = [f for f in os.listdir(input_folder) if f.endswith(\".shp\")]\n",
    "input_files\n",
    "# Get a list of near feature shapefiles\n",
    "near_folder = \"D:\\\\WestJefferson\\\\2017xyz2shp\\\\NearPoint_trial\\\\4142a\\\\\"\n",
    "near_files = [f for f in os.listdir(near_folder) if f.endswith(\".shp\")]\n",
    "near_files\n",
    "n = len(input_files)\n",
    "for i in range(n):\n",
    "    input_shapefile = os.path.join(input_folder, input_files[i])\n",
    "    near_shapefile = os.path.join(near_folder, near_files[i])\n",
    "        \n",
    "    # Perform the near analysis\n",
    "    arcpy.Near_analysis(input_shapefile, near_shapefile, \"1 Meter\", \"LOCATION\")"
   ]
  }
 ],
 "metadata": {
  "kernelspec": {
   "display_name": "Python 3 (ipykernel)",
   "language": "python",
   "name": "python3"
  },
  "language_info": {
   "codemirror_mode": {
    "name": "ipython",
    "version": 3
   },
   "file_extension": ".py",
   "mimetype": "text/x-python",
   "name": "python",
   "nbconvert_exporter": "python",
   "pygments_lexer": "ipython3",
   "version": "3.9.17"
  }
 },
 "nbformat": 4,
 "nbformat_minor": 2
}
