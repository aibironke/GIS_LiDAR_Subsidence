{
 "cells": [
  {
   "cell_type": "code",
   "execution_count": 1,
   "id": "32d2bee0",
   "metadata": {},
   "outputs": [],
   "source": [
    "import os"
   ]
  },
  {
   "cell_type": "code",
   "execution_count": 3,
   "id": "4a8dc642",
   "metadata": {},
   "outputs": [
    {
     "name": "stdout",
     "output_type": "stream",
     "text": [
      "Renamed stratmap1750cm_Aggregat4063a2.cpg to stratmap1750cm_2994063a2.cpg\n",
      "Renamed stratmap1750cm_Aggregat4063a2.dbf to stratmap1750cm_2994063a2.dbf\n",
      "Renamed stratmap1750cm_Aggregat4063a2.prj to stratmap1750cm_2994063a2.prj\n",
      "Renamed stratmap1750cm_Aggregat4063a2.sbn to stratmap1750cm_2994063a2.sbn\n",
      "Renamed stratmap1750cm_Aggregat4063a2.sbx to stratmap1750cm_2994063a2.sbx\n",
      "Renamed stratmap1750cm_Aggregat4063a2.shp to stratmap1750cm_2994063a2.shp\n",
      "Renamed stratmap1750cm_Aggregat4063a2.shp.xml to stratmap1750cm_2994063a2.shp.xml\n",
      "Renamed stratmap1750cm_Aggregat4063a2.shx to stratmap1750cm_2994063a2.shx\n",
      "Renamed stratmap1750cm_Aggregat4063a2_Tbl.cpg to stratmap1750cm_2994063a2_Tbl.cpg\n",
      "Renamed stratmap1750cm_Aggregat4063a2_Tbl.dbf to stratmap1750cm_2994063a2_Tbl.dbf\n",
      "Renamed stratmap1750cm_Aggregat4063a2_Tbl.dbf.xml to stratmap1750cm_2994063a2_Tbl.dbf.xml\n",
      "Renamed stratmap1750cm_Aggregat4063b1.cpg to stratmap1750cm_2994063b1.cpg\n",
      "Renamed stratmap1750cm_Aggregat4063b1.dbf to stratmap1750cm_2994063b1.dbf\n",
      "Renamed stratmap1750cm_Aggregat4063b1.prj to stratmap1750cm_2994063b1.prj\n",
      "Renamed stratmap1750cm_Aggregat4063b1.sbn to stratmap1750cm_2994063b1.sbn\n",
      "Renamed stratmap1750cm_Aggregat4063b1.sbx to stratmap1750cm_2994063b1.sbx\n",
      "Renamed stratmap1750cm_Aggregat4063b1.shp to stratmap1750cm_2994063b1.shp\n",
      "Renamed stratmap1750cm_Aggregat4063b1.shp.xml to stratmap1750cm_2994063b1.shp.xml\n",
      "Renamed stratmap1750cm_Aggregat4063b1.shx to stratmap1750cm_2994063b1.shx\n",
      "Renamed stratmap1750cm_Aggregat4063b1_Tbl.cpg to stratmap1750cm_2994063b1_Tbl.cpg\n",
      "Renamed stratmap1750cm_Aggregat4063b1_Tbl.dbf to stratmap1750cm_2994063b1_Tbl.dbf\n",
      "Renamed stratmap1750cm_Aggregat4063b1_Tbl.dbf.xml to stratmap1750cm_2994063b1_Tbl.dbf.xml\n",
      "Renamed stratmap1750cm_Aggregate4141d3.CPG to stratmap1750cm_299e4141d3.CPG\n"
     ]
    }
   ],
   "source": [
    "import os\n",
    "\n",
    "def rename_files(root_folder, old_substring, new_substring, extensions):\n",
    "    for foldername, subfolders, filenames in os.walk(root_folder):\n",
    "        for filename in filenames:\n",
    "            if filename.endswith(extensions) and old_substring in filename:\n",
    "                new_filename = filename.replace(old_substring, new_substring)\n",
    "                old_file_path = os.path.join(foldername, filename)\n",
    "                new_file_path = os.path.join(foldername, new_filename)\n",
    "                os.rename(old_file_path, new_file_path)\n",
    "                \n",
    "                print(f\"Renamed {filename} to {new_filename}\")\n",
    "\n",
    "if __name__ == \"__main__\":\n",
    "    # Replace 'root_folder', 'old_substring', 'new_substring', and 'extensions' with appropriate values.\n",
    "    root_folder = \"H:\\\\WestJefferson\\\\OilFieldsWest_Jeff\\\\Aggregates\\\\\"\n",
    "    old_substring = \"Aggregat\"\n",
    "    new_substring = \"299\"\n",
    "    extensions = ('.shp', '.cpg', '.dbf', '.prj', '.sbn', '.sbx','.shx','.xml','.CPG')\n",
    "    \n",
    "    rename_files(root_folder, old_substring, new_substring, extensions)\n"
   ]
  },
  {
   "cell_type": "code",
   "execution_count": null,
   "id": "6b7b4f4e",
   "metadata": {},
   "outputs": [],
   "source": []
  }
 ],
 "metadata": {
  "kernelspec": {
   "display_name": "Python 3 (ipykernel)",
   "language": "python",
   "name": "python3"
  },
  "language_info": {
   "codemirror_mode": {
    "name": "ipython",
    "version": 3
   },
   "file_extension": ".py",
   "mimetype": "text/x-python",
   "name": "python",
   "nbconvert_exporter": "python",
   "pygments_lexer": "ipython3",
   "version": "3.9.17"
  }
 },
 "nbformat": 4,
 "nbformat_minor": 5
}
